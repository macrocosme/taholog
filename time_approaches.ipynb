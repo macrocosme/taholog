{
 "cells": [
  {
   "cell_type": "code",
   "execution_count": 2,
   "id": "0f1ee437-1d18-46b0-a1de-6b55f773f0b6",
   "metadata": {},
   "outputs": [],
   "source": [
    "import datetime\n",
    "t = {(True, True, 'serial'): [datetime.timedelta(seconds=10, microseconds=106824)],\n",
    " (True,\n",
    "  True,\n",
    "  'multiprocessing'): [datetime.timedelta(seconds=122, microseconds=629276)],\n",
    " (True,\n",
    "  False,\n",
    "  'serial'): [datetime.timedelta(seconds=27, microseconds=685373)],\n",
    " (True,\n",
    "  False,\n",
    "  'multiprocessing'): [datetime.timedelta(seconds=128, microseconds=250283)],\n",
    " (False, True, 'serial'): [datetime.timedelta(seconds=7, microseconds=311713)],\n",
    " (False,\n",
    "  True,\n",
    "  'multiprocessing'): [datetime.timedelta(seconds=111, microseconds=960875)],\n",
    " (False,\n",
    "  False,\n",
    "  'serial'): [datetime.timedelta(seconds=14, microseconds=258189)],\n",
    " (False,\n",
    "  False,\n",
    "  'multiprocessing'): [datetime.timedelta(seconds=115, microseconds=957528)]}"
   ]
  },
  {
   "cell_type": "code",
   "execution_count": 12,
   "id": "a9331078-faa7-4716-a80b-12bb6b4fa775",
   "metadata": {},
   "outputs": [
    {
     "name": "stdout",
     "output_type": "stream",
     "text": [
      "method, io, gpu\n",
      "serial, True, True: [datetime.timedelta(seconds=10, microseconds=106824)]\n",
      "serial, True, False: [datetime.timedelta(seconds=27, microseconds=685373)]\n",
      "serial, False, True: [datetime.timedelta(seconds=7, microseconds=311713)]\n",
      "serial, False, False: [datetime.timedelta(seconds=14, microseconds=258189)]\n"
     ]
    }
   ],
   "source": [
    "print ('method, io, gpu')\n",
    "for io, gpu, method in t:\n",
    "    if method == 'serial':\n",
    "        print (f'{method.replace(\"processing\", \" \")}, {io}, {gpu}: {t[(io, gpu, method)]}')"
   ]
  },
  {
   "cell_type": "code",
   "execution_count": 13,
   "id": "2ba554f6-333e-4966-b3ee-9e9983f516e8",
   "metadata": {},
   "outputs": [
    {
     "name": "stdout",
     "output_type": "stream",
     "text": [
      "method, io, gpu\n",
      "multi , True, True: [datetime.timedelta(seconds=122, microseconds=629276)]\n",
      "multi , True, False: [datetime.timedelta(seconds=128, microseconds=250283)]\n",
      "multi , False, True: [datetime.timedelta(seconds=111, microseconds=960875)]\n",
      "multi , False, False: [datetime.timedelta(seconds=115, microseconds=957528)]\n"
     ]
    }
   ],
   "source": [
    "print ('method, io, gpu')\n",
    "for io, gpu, method in t:\n",
    "    if method == 'multiprocessing':\n",
    "        print (f'{method.replace(\"processing\", \" \")}, {io}, {gpu}: {t[(io, gpu, method)]}')"
   ]
  },
  {
   "cell_type": "code",
   "execution_count": null,
   "id": "10ef2b52-c3bb-417a-8499-a155a8ccce45",
   "metadata": {},
   "outputs": [],
   "source": []
  },
  {
   "cell_type": "markdown",
   "id": "557f30e7-84e7-44df-b114-3398d9e2bd7d",
   "metadata": {},
   "source": [
    "method:serial, cuda, to_disk:True\n",
    "0:00:11.279658\n",
    "\n",
    "method:serial, cuda, to_disk:False\n",
    "0:00:07.362257\n",
    "\n",
    "method:serial, numpy, to_disk:True\n",
    "0:00:16.752776\n",
    "\n",
    "method:serial, numpy, to_disk:False\n",
    "0:00:17.500211\n",
    "\n",
    "method:serial, pyfftw, to_disk:True\n",
    "0:00:36.808636\n",
    "\n",
    "method:serial, pyfftw, to_disk:False\n",
    "0:00:30.844438\n",
    "\n",
    "method:multiprocessing, cuda, to_disk:True\n",
    "0:01:54.367784\n",
    "\n",
    "method:multiprocessing, cuda, to_disk:False\n",
    "0:01:54.501390\n",
    "\n",
    "method:multiprocessing, numpy, to_disk:True\n",
    "0:01:52.948554\n",
    "\n",
    "method:multiprocessing, numpy, to_disk:False\n",
    "0:01:52.819608\n",
    "\n",
    "method:multiprocessing, pyfftw, to_disk:True\n",
    "0:01:48.968451\n",
    "\n",
    "method:multiprocessing, pyfftw, to_disk:False\n",
    "0:01:49.682640"
   ]
  },
  {
   "cell_type": "code",
   "execution_count": null,
   "id": "6d4181f6-364b-4710-a947-af2aca9c3429",
   "metadata": {},
   "outputs": [],
   "source": []
  },
  {
   "cell_type": "markdown",
   "id": "aaf128ba-38ae-48fc-93bc-c247db7008bc",
   "metadata": {},
   "source": [
    "Singularity> time python main.py --use_gpu --no-use_pyfftw --to_disk --verbose --target_id 'L2036952' --reference_ids 'L2036944' --input_dir '/data/bassa/taholog/' --output_dir '/data/vohl/output/' --steps  'to_freq'  >> ../taholog_L2036952_serial_gpu_to_disk.out 2>&1\n",
    "\n",
    "real    88m32.582s\n",
    "user    28m5.585s\n",
    "sys     57m15.755s\n",
    "\n",
    "\n",
    "Singularity> ls /data/vohl/output/*/* | wc -l\n",
    "1738"
   ]
  },
  {
   "cell_type": "code",
   "execution_count": null,
   "id": "7a22ad16-f50d-4edd-b217-b04cbef57a53",
   "metadata": {},
   "outputs": [],
   "source": []
  },
  {
   "cell_type": "markdown",
   "id": "cb197875-4c9e-4937-bdfa-68b1a1bbd5e5",
   "metadata": {},
   "source": [
    "time python main.py --parallel --ncpus 16 --no-use_gpu --no-use_pyfftw --to_disk --verbose --target_id 'L2036952' --reference_ids 'L2036944' --input_dir '/data/bassa/taholog/' --output_dir '/data/vohl/output/' --steps  'to_freq'  >> ../taholog_L2036952_parallel_no-use_gpu_to_disk.out 2>&1\n",
    "\n",
    "real    24m1.301s\n",
    "user    60m5.783s\n",
    "sys     176m4.354s\n",
    "\n",
    "\n",
    "Singularity> ls /data/vohl/output/*/* | wc -l\n",
    "1738"
   ]
  },
  {
   "cell_type": "markdown",
   "id": "bc9da461-27f4-4393-ad74-df70f9037e14",
   "metadata": {},
   "source": [
    "Singularity> time python main.py --parallel --ncpus 16 --no-use_gpu --no-use_pyfftw --to_disk --verbose --target_id 'L2036952' --reference_ids 'L2036944' --input_dir '/data/bassa/taholog/' --output_dir '/data/vohl/output/' --steps  'xcorr'  >> ../taholog_L2036952_xcorr_parallel_jit.out 2>&1\n",
    "\n",
    "real    37m13.500s\n",
    "user    292m20.825s\n",
    "sys     133m21.382s"
   ]
  },
  {
   "cell_type": "markdown",
   "id": "9759e245-d486-46f8-8d9a-02e8115170f5",
   "metadata": {},
   "source": [
    "Singularity> time python main.py --parallel --ncpus 16 --no-use_numba --no-use_gpu --no-use_pyfftw --to\n",
    "_disk --verbose --target_id 'L2036952' --reference_ids 'L2036944' --input_dir '/data/bassa/t\n",
    "aholog/' --output_dir '/data/vohl/output/' --steps  'xcorr' 'plot_beam' >> ../taholog_L20369\n",
    "52_xcorr_till_end.out 2>&1\n",
    "\n",
    "real    36m36.055s\n",
    "user    294m41.879s\n",
    "sys     135m31.484s"
   ]
  },
  {
   "cell_type": "markdown",
   "id": "ac5dd8d1-451f-4467-bf59-1cfdfa24919d",
   "metadata": {},
   "source": [
    "Singularity> time python main.py --parallel --ncpus 16 --no-use_numba --no-use_gpu --no-use_pyfftw --to\n",
    "_disk --verbose --target_id 'L2036952' --reference_ids 'L2036944' --input_dir '/data/bassa/t\n",
    "aholog/' --output_dir '/data/vohl/output/' --steps 'plot_beam' >> ../taholog_L2036952_xcorr_\n",
    "till_end.out 2>&1\n",
    "\n",
    "real    0m18.435s\n",
    "user    0m12.469s\n",
    "sys     0m2.866s\n",
    "\n",
    "\n",
    "Singularity> time python main.py --parallel --ncpus 16 --no-use_numba --no-use_gpu --no-use_pyfftw --to_disk --verbose --target_id 'L2036952' --reference_ids 'L2036944' --input_dir '/data/bassa/taholog/' --output_dir '/data/vohl/output/' --steps 'gencal' 'applycal' 'clip' 'average_t' 'to_uvhol' 'average_uvhol' 'solve_uvhol' 'order_sols' 'plot_report' >> ../taholog_L2036952_till_end.out 2>&1\n",
    "\n",
    "real    2m17.000s\n",
    "user    8m30.428s\n",
    "sys     1m24.203s"
   ]
  },
  {
   "cell_type": "code",
   "execution_count": null,
   "id": "9a525eb6-589a-4e72-beac-9aa0a272a34c",
   "metadata": {},
   "outputs": [],
   "source": [
    "import astropy.units as u\n",
    "\n",
    "(( 24+36+0.3+2.3 ) * u.minute)"
   ]
  },
  {
   "cell_type": "code",
   "execution_count": null,
   "id": "98ff12c5-f028-4949-865f-d3c4457dbe7d",
   "metadata": {},
   "outputs": [
    {
     "data": {
      "text/latex": [
       "$2.1565495 \\; \\mathrm{}$"
      ],
      "text/plain": [
       "<Quantity 2.15654952>"
      ]
     },
     "execution_count": 11,
     "metadata": {},
     "output_type": "execute_result"
    }
   ],
   "source": [
    "((120+15) * u.minute) / (( 24+36+0.3+2.3 ) * u.minute)"
   ]
  },
  {
   "cell_type": "code",
   "execution_count": null,
   "id": "7f93d241-9a6b-4776-98a5-59e732128afd",
   "metadata": {},
   "outputs": [],
   "source": []
  },
  {
   "cell_type": "markdown",
   "id": "b06f1e44-5cf8-4832-9d19-c799cd349488",
   "metadata": {},
   "source": [
    "\n",
    "With missing file code padding, end-to-end timing:\n",
    "\n",
    "\n",
    "Singularity> time python main.py --parallel --ncpus 16 --no-use_numba --no-use_gpu --no-use_pyfftw --to_disk --verbose --target_id 'L2036952' --reference_ids 'L2036944' --input_dir '/data/bassa/taholog/' --output_dir '/data/vohl/output/' >> ../taholog_L2036952_all_steps.out 2>&1                                                                                     \n",
    "\n",
    "real    70m17.543s\n",
    "user    370m28.481s\n",
    "sys     354m43.533s"
   ]
  },
  {
   "cell_type": "markdown",
   "id": "68010a67-4ecd-4748-8bb2-fa8e4d3ca6a9",
   "metadata": {},
   "source": [
    "# FASTEST RUN"
   ]
  },
  {
   "cell_type": "markdown",
   "id": "63eba6b3-f950-4349-93ed-fe26836c143d",
   "metadata": {},
   "source": [
    "Singularity> time python main.py --parallel --ncpus 16 --no-use_numba --no-use_gpu --use_pyfftw -\n",
    "-to_disk --verbose --target_id 'L2036952' --reference_ids 'L2036944' --input_dir '/data/bassa/taholog/' --output_dir '/data/vohl/output/' >> ../taholog_L2036952_all_steps_pyfftw.out 2>&1\n",
    "\n",
    "real    66m46.330s\n",
    "user    357m32.401s\n",
    "sys     282m46.129s"
   ]
  },
  {
   "cell_type": "code",
   "execution_count": null,
   "id": "92b53072-2702-4b84-b397-6d70a6ca5cdc",
   "metadata": {},
   "outputs": [],
   "source": []
  },
  {
   "cell_type": "markdown",
   "id": "ffe29b24-0d3d-4e35-9051-23b23ac4c584",
   "metadata": {},
   "source": [
    "Singularity> time python main.py --parallel --ncpus 20 --no-use_numba --no-use_gpu --use_pyfftw --to_disk --verbose --target_id 'L2036952' --reference_ids 'L2036944' --input_dir '/data/bassa/taholog/' --output_dir '/data/vohl/output/' >> ../taholog_L2036952_20cpus.out 2>&1\n",
    "\n",
    "real    75m46.945s\n",
    "user    372m25.771s\n",
    "sys     303m21.212s"
   ]
  },
  {
   "cell_type": "code",
   "execution_count": null,
   "id": "16cfb7bd-beef-47ee-a0c9-0b5fd0a321da",
   "metadata": {},
   "outputs": [],
   "source": []
  },
  {
   "cell_type": "markdown",
   "id": "02e8d21b-86de-4a6f-90e8-3e39c6e8fd4c",
   "metadata": {},
   "source": [
    "\n",
    "func: to_freq(...)\n",
    "\n",
    "----------------------------------------------\n",
    "parallel (pyfftw + cupy)              [round2]\n",
    "----------------------------------------------\n",
    "In [1]: '08:02:09'\n",
    "Out[1]: '08:02:09'\n",
    "\n",
    "In [2]: '08:33:08'\n",
    "Out[2]: '08:33:08'\n",
    "\n",
    "In [3]: 33-2\n",
    "Out[3]: 31\n",
    "\n",
    "\n",
    "----------------------------------------------\n",
    "parallel (numpy)                      [round1]\n",
    "----------------------------------------------\n",
    "In [4]: '15:17:24'\n",
    "Out[4]: '15:17:24'\n",
    "\n",
    "In [5]: '15:41:04'\n",
    "Out[5]: '15:41:04'\n",
    "\n",
    "In [6]: 41-17\n",
    "Out[6]: 24\n",
    "\n"
   ]
  },
  {
   "cell_type": "markdown",
   "id": "bb2d6d2d-cb14-4267-8f78-1687732122e4",
   "metadata": {},
   "source": [
    "\n",
    "func: xcorr(...)\n",
    "\n",
    "---\n",
    "\n",
    "In [15]: str_to_time = lambda s: int(s.split(':')[0])*u.hour + int(s.split(':')[1])*u.minute + in\n",
    "    ...: t(s.split(':')[2])*u.second\n",
    "    \n",
    "----------------------------------------------\n",
    "parallel no-cuda no-pyfftw no-numba  [round 2]\n",
    "----------------------------------------------\n",
    "\n",
    "\n",
    "\n",
    "----------------------------------------------\n",
    "parallel no-cuda no-pyfftw no-numba  [round 1]\n",
    "----------------------------------------------\n",
    "In [18]: (str_to_time('16:25:15') - str_to_time('15:41:05')).to(u.minute)\n",
    "Out[18]: <Quantity 44.16666667 min>\n",
    "\n"
   ]
  },
  {
   "cell_type": "code",
   "execution_count": null,
   "id": "8c17c7a5-5be8-4936-9889-337a101a4e9b",
   "metadata": {},
   "outputs": [],
   "source": []
  },
  {
   "cell_type": "markdown",
   "id": "eb82fab1-3b37-490b-bf41-14355753dfda",
   "metadata": {},
   "source": [
    "In [8]: time_fft_methods()\n",
    "pyfftw_original 0\n",
    "pyfftw_original 1\n",
    "pyfftw_original 2\n",
    "pyfftw 0\n",
    "pyfftw 1\n",
    "pyfftw 2\n",
    "numpy_original 0\n",
    "numpy_original 1\n",
    "numpy_original 2\n",
    "numpy 0\n",
    "numpy 1\n",
    "numpy 2\n",
    "cupy 0\n",
    "cupy 1\n",
    "cupy 2\n",
    "Out[8]:\n",
    "{'pyfftw_original': [datetime.timedelta(seconds=10, microseconds=979526),\n",
    "  datetime.timedelta(seconds=11, microseconds=244516),\n",
    "  datetime.timedelta(seconds=9, microseconds=437011)],\n",
    " 'pyfftw': [datetime.timedelta(seconds=3, microseconds=977205),\n",
    "  datetime.timedelta(seconds=2, microseconds=792450),\n",
    "  datetime.timedelta(seconds=2, microseconds=838110)],\n",
    " 'numpy_original': [datetime.timedelta(seconds=10, microseconds=600282),\n",
    "  datetime.timedelta(seconds=10, microseconds=548476),\n",
    "  datetime.timedelta(seconds=12, microseconds=282144)],\n",
    " 'numpy': [datetime.timedelta(seconds=3, microseconds=443880),\n",
    "  datetime.timedelta(seconds=3, microseconds=391993),\n",
    "  datetime.timedelta(seconds=3, microseconds=281472)],\n",
    " 'cupy': [datetime.timedelta(seconds=1, microseconds=723579),\n",
    "  datetime.timedelta(seconds=1, microseconds=573032),\n",
    "  datetime.timedelta(seconds=1, microseconds=652288)]}"
   ]
  },
  {
   "cell_type": "code",
   "execution_count": null,
   "id": "38bbb31c-ccb0-454f-997c-4e6f096eb947",
   "metadata": {},
   "outputs": [],
   "source": []
  }
 ],
 "metadata": {
  "kernelspec": {
   "display_name": "Python 3 (ipykernel)",
   "language": "python",
   "name": "python3"
  },
  "language_info": {
   "codemirror_mode": {
    "name": "ipython",
    "version": 3
   },
   "file_extension": ".py",
   "mimetype": "text/x-python",
   "name": "python",
   "nbconvert_exporter": "python",
   "pygments_lexer": "ipython3",
   "version": "3.9.15"
  }
 },
 "nbformat": 4,
 "nbformat_minor": 5
}
